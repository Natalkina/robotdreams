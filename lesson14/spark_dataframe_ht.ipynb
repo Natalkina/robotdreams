{
 "cells": [
  {
   "cell_type": "code",
   "execution_count": 1,
   "metadata": {
    "collapsed": true,
    "ExecuteTime": {
     "end_time": "2024-02-04T12:36:22.169283826Z",
     "start_time": "2024-02-04T12:36:22.128709699Z"
    }
   },
   "outputs": [],
   "source": [
    "from pyspark.sql import SparkSession, functions as F, types as T"
   ]
  },
  {
   "cell_type": "code",
   "execution_count": 2,
   "metadata": {
    "collapsed": false,
    "pycharm": {
     "is_executing": true
    },
    "ExecuteTime": {
     "end_time": "2024-02-04T12:36:26.560825127Z",
     "start_time": "2024-02-04T12:36:22.861805388Z"
    }
   },
   "outputs": [
    {
     "name": "stderr",
     "output_type": "stream",
     "text": [
      "24/02/04 12:36:24 WARN Utils: Your hostname, sokil-hp resolves to a loopback address: 127.0.1.1; using 192.168.1.104 instead (on interface wlp0s20f3)\n",
      "24/02/04 12:36:24 WARN Utils: Set SPARK_LOCAL_IP if you need to bind to another address\n",
      "Setting default log level to \"WARN\".\n",
      "To adjust logging level use sc.setLogLevel(newLevel). For SparkR, use setLogLevel(newLevel).\n",
      "24/02/04 12:36:25 WARN NativeCodeLoader: Unable to load native-hadoop library for your platform... using builtin-java classes where applicable\n"
     ]
    }
   ],
   "source": [
    "spark = SparkSession.builder.master('local[3]').getOrCreate()"
   ]
  },
  {
   "cell_type": "code",
   "execution_count": 4,
   "metadata": {
    "collapsed": false,
    "ExecuteTime": {
     "end_time": "2024-02-04T13:46:10.169751763Z",
     "start_time": "2024-02-04T13:46:10.135970733Z"
    }
   },
   "outputs": [
    {
     "name": "stdout",
     "output_type": "stream",
     "text": [
      "3.5.0\n"
     ]
    }
   ],
   "source": [
    "print(spark.version)"
   ]
  },
  {
   "cell_type": "code",
   "execution_count": 5,
   "metadata": {
    "collapsed": false,
    "ExecuteTime": {
     "end_time": "2024-02-04T13:46:19.788456695Z",
     "start_time": "2024-02-04T13:46:11.834498841Z"
    }
   },
   "outputs": [],
   "source": [
    "actor_df = spark.read.csv('./data/actor.csv', header=True, inferSchema=True)\n",
    "address_df = spark.read.csv('./data/address.csv', header=True, inferSchema=True)\n",
    "category_df = spark.read.csv('./data/category.csv', header=True, inferSchema=True)\n",
    "city_df = spark.read.csv('./data/city.csv', header=True, inferSchema=True)\n",
    "country_df = spark.read.csv('./data/country.csv', header=True, inferSchema=True)\n",
    "customer_df = spark.read.csv('./data/customer.csv', header=True, inferSchema=True)\n",
    "film_df = spark.read.csv('./data/film.csv', header=True, inferSchema=True)\n",
    "film_actor_df = spark.read.csv('./data/film_actor.csv', header=True, inferSchema=True)\n",
    "film_category_df = spark.read.csv('./data/film_category.csv', header=True, inferSchema=True)\n",
    "inventory_df = spark.read.csv('./data/inventory.csv', header=True, inferSchema=True)\n",
    "language_df = spark.read.csv('./data/language.csv', header=True, inferSchema=True)\n",
    "payment_df = spark.read.csv('./data/payment.csv', header=True, inferSchema=True)\n",
    "rental_df = spark.read.csv('./data/rental.csv', header=True, inferSchema=True)\n",
    "staff_df = spark.read.csv('./data/staff.csv', header=True, inferSchema=True)\n",
    "store_df = spark.read.csv('./data/store.csv', header=True, inferSchema=True)"
   ]
  },
  {
   "cell_type": "markdown",
   "metadata": {
    "collapsed": false
   },
   "source": [
    "# Домашнє завдання на тему Spark SQL\n",
    "\n",
    "Задачі з домашнього завдання на SQL потрібно розвʼязати за допомогою Spark SQL DataFrame API.\n",
    "\n",
    "- Дампи таблиць знаходяться в папці `data`. Датафрейми таблиць вже створені в клітинці вище.\n",
    "- Можете створювати стільки нових клітинок, скільки вам необхідно.\n",
    "- Розвʼязок кожної задачі має бути відображений в самому файлі (використати метод `.show()`)\n",
    "- код має бути оформлений у відповідності із одним із стилем, показаним лектором на занятті 13.\n",
    "\n",
    "**Увага!**\n",
    "Використовувати мову запитів SQL безпосередньо забороняється, потрібно використовувати виключно DataFrame API!\n"
   ]
  },
  {
   "cell_type": "markdown",
   "metadata": {
    "collapsed": false
   },
   "source": [
    "1.\n",
    "Вивести кількість фільмів в кожній категорії.\n",
    "Результат відсортувати за спаданням."
   ]
  },
  {
   "cell_type": "code",
   "execution_count": 6,
   "metadata": {
    "collapsed": false,
    "ExecuteTime": {
     "end_time": "2024-02-04T13:46:33.300589299Z",
     "start_time": "2024-02-04T13:46:31.806359583Z"
    }
   },
   "outputs": [
    {
     "name": "stdout",
     "output_type": "stream",
     "text": [
      "+-----------+-----+\n",
      "|       name|count|\n",
      "+-----------+-----+\n",
      "|     Sports|   74|\n",
      "|    Foreign|   73|\n",
      "|     Family|   69|\n",
      "|Documentary|   68|\n",
      "|  Animation|   66|\n",
      "|     Action|   64|\n",
      "|        New|   63|\n",
      "|      Drama|   62|\n",
      "|      Games|   61|\n",
      "|     Sci-Fi|   61|\n",
      "|   Children|   60|\n",
      "|     Comedy|   58|\n",
      "|     Travel|   57|\n",
      "|   Classics|   57|\n",
      "|     Horror|   56|\n",
      "|      Music|   51|\n",
      "+-----------+-----+\n"
     ]
    }
   ],
   "source": [
    "films_count_by_category = (film_df\n",
    "                           .join(film_category_df, on='film_id')\n",
    "                           .join(category_df, on='category_id')\n",
    "                           .groupBy(category_df.name)\n",
    "                           .count()\n",
    "                           .sort(F.col(\"count\").desc())\n",
    "                           .show())"
   ]
  },
  {
   "cell_type": "markdown",
   "metadata": {
    "collapsed": false
   },
   "source": [
    "2.\n",
    "Вивести 10 акторів, чиї фільми брали на прокат найбільше.\n",
    "Результат відсортувати за спаданням."
   ]
  },
  {
   "cell_type": "code",
   "execution_count": 7,
   "metadata": {
    "collapsed": false,
    "ExecuteTime": {
     "end_time": "2024-02-04T13:47:12.316780658Z",
     "start_time": "2024-02-04T13:47:11.087622255Z"
    }
   },
   "outputs": [
    {
     "name": "stdout",
     "output_type": "stream",
     "text": [
      "+--------+----------+-----------+-----+\n",
      "|actor_id|first_name|  last_name|count|\n",
      "+--------+----------+-----------+-----+\n",
      "|     107|      GINA|  DEGENERES|  753|\n",
      "|     181|   MATTHEW|     CARREY|  678|\n",
      "|     198|      MARY|     KEITEL|  674|\n",
      "|     144|    ANGELA|WITHERSPOON|  654|\n",
      "|     102|    WALTER|       TORN|  640|\n",
      "|      60|     HENRY|      BERRY|  612|\n",
      "|     150|     JAYNE|      NOLTE|  611|\n",
      "|      37|       VAL|     BOLGER|  605|\n",
      "|      23|    SANDRA|     KILMER|  604|\n",
      "|      90|      SEAN|    GUINESS|  599|\n",
      "+--------+----------+-----------+-----+\n"
     ]
    }
   ],
   "source": [
    "top_actors = (film_df\n",
    "              .join(film_actor_df, on='film_id')\n",
    "              .join(actor_df, on='actor_id')\n",
    "              .join(inventory_df, on='film_id')\n",
    "              .join(rental_df, on='inventory_id')\n",
    "              .groupBy(actor_df.actor_id, actor_df.first_name, actor_df.last_name)\n",
    "              .count()\n",
    "              .sort(F.col(\"count\").desc())\n",
    "              .show(10))"
   ]
  },
  {
   "cell_type": "markdown",
   "metadata": {
    "collapsed": false
   },
   "source": [
    "3.\n",
    "Вивести категорія фільмів, на яку було витрачено найбільше грошей\n",
    "в прокаті"
   ]
  },
  {
   "cell_type": "code",
   "execution_count": 8,
   "metadata": {
    "collapsed": false,
    "ExecuteTime": {
     "end_time": "2024-02-04T13:47:36.484933088Z",
     "start_time": "2024-02-04T13:47:34.945736801Z"
    }
   },
   "outputs": [
    {
     "name": "stdout",
     "output_type": "stream",
     "text": [
      "+------+-----------+\n",
      "|  name|total_spent|\n",
      "+------+-----------+\n",
      "|Sports|    5314.21|\n",
      "+------+-----------+\n"
     ]
    }
   ],
   "source": [
    "most_expensive = (category_df\n",
    "                  .join(film_category_df, on='category_id')\n",
    "                  .join(film_df, on='film_id')\n",
    "                  .join(inventory_df, on='film_id')\n",
    "                  .join(rental_df, on='inventory_id')\n",
    "                  .join(payment_df, on='rental_id')\n",
    "                  .groupBy(F.col('name'))\n",
    "                  .agg(F.round(F.sum('amount'), 2).alias(\"total_spent\"))\n",
    "                  .orderBy(F.col(\"total_spent\").desc())\n",
    "                  .show(1))"
   ]
  },
  {
   "cell_type": "markdown",
   "metadata": {
    "collapsed": false
   },
   "source": [
    "4.\n",
    "Вивести назви фільмів, яких не має в inventory."
   ]
  },
  {
   "cell_type": "code",
   "execution_count": 9,
   "metadata": {
    "collapsed": false,
    "ExecuteTime": {
     "end_time": "2024-02-04T13:48:05.857132168Z",
     "start_time": "2024-02-04T13:48:05.526982836Z"
    }
   },
   "outputs": [
    {
     "name": "stdout",
     "output_type": "stream",
     "text": [
      "+--------------------+\n",
      "|               title|\n",
      "+--------------------+\n",
      "|      ALICE FANTASIA|\n",
      "|         APOLLO TEEN|\n",
      "|      ARGONAUTS TOWN|\n",
      "|       ARK RIDGEMONT|\n",
      "|ARSENIC INDEPENDENCE|\n",
      "|   BOONDOCK BALLROOM|\n",
      "|       BUTCH PANTHER|\n",
      "|       CATCH AMISTAD|\n",
      "| CHINATOWN GLADIATOR|\n",
      "|      CHOCOLATE DUCK|\n",
      "|COMMANDMENTS EXPRESS|\n",
      "|    CROSSING DIVORCE|\n",
      "|     CROWDS TELEMARK|\n",
      "|    CRYSTAL BREAKING|\n",
      "|          DAZED PUNK|\n",
      "|DELIVERANCE MULHO...|\n",
      "|   FIREHOUSE VIETNAM|\n",
      "|       FLOATS GARDEN|\n",
      "|FRANKENSTEIN STRA...|\n",
      "|  GLADIATOR WESTWARD|\n",
      "+--------------------+\n"
     ]
    }
   ],
   "source": [
    "films_not_in_inventory = (film_df\n",
    "                          .join(inventory_df, film_df.film_id == inventory_df.film_id, \"left_anti\")\n",
    "                          .select(film_df[\"title\"])\n",
    "                          .show())"
   ]
  },
  {
   "cell_type": "markdown",
   "metadata": {
    "collapsed": false
   },
   "source": [
    "5.\n",
    "Вивести топ 3 актори, які найбільше зʼявлялись в категорії фільмів “Children”"
   ]
  },
  {
   "cell_type": "code",
   "execution_count": 10,
   "metadata": {
    "collapsed": false,
    "pycharm": {
     "is_executing": true
    },
    "ExecuteTime": {
     "end_time": "2024-02-04T13:48:42.416299073Z",
     "start_time": "2024-02-04T13:48:41.408323756Z"
    }
   },
   "outputs": [
    {
     "name": "stdout",
     "output_type": "stream",
     "text": [
      "+--------+----------+---------+-----+\n",
      "|actor_id|first_name|last_name|count|\n",
      "+--------+----------+---------+-----+\n",
      "|      17|     HELEN|   VOIGHT|    7|\n",
      "|     127|     KEVIN|  GARLAND|    5|\n",
      "|      80|     RALPH|     CRUZ|    5|\n",
      "+--------+----------+---------+-----+\n"
     ]
    }
   ],
   "source": [
    "top_actors_in_children = (film_df\n",
    "                          .join(film_category_df, on='film_id')\n",
    "                          .join(category_df, on='category_id')\n",
    "                          .where(category_df.name == \"Children\")\n",
    "                          .join(film_actor_df, on='film_id')\n",
    "                          .join(actor_df, 'actor_id')\n",
    "                          .groupBy(actor_df.actor_id, actor_df.first_name, actor_df.last_name)\n",
    "                          .count()\n",
    "                          .orderBy(F.col(\"count\").desc())\n",
    "                          .show(3))"
   ]
  },
  {
   "cell_type": "code",
   "execution_count": null,
   "metadata": {
    "collapsed": false
   },
   "outputs": [],
   "source": []
  },
  {
   "cell_type": "markdown",
   "metadata": {
    "collapsed": false
   },
   "source": [
    "Stop Spark session:"
   ]
  },
  {
   "cell_type": "code",
   "execution_count": 11,
   "metadata": {
    "collapsed": false,
    "ExecuteTime": {
     "end_time": "2024-02-04T13:49:14.107102361Z",
     "start_time": "2024-02-04T13:49:13.859515849Z"
    }
   },
   "outputs": [],
   "source": [
    "spark.stop()"
   ]
  },
  {
   "cell_type": "code",
   "execution_count": null,
   "outputs": [],
   "source": [],
   "metadata": {
    "collapsed": false
   }
  }
 ],
 "metadata": {
  "kernelspec": {
   "display_name": "Python 3",
   "language": "python",
   "name": "python3"
  },
  "language_info": {
   "codemirror_mode": {
    "name": "ipython",
    "version": 2
   },
   "file_extension": ".py",
   "mimetype": "text/x-python",
   "name": "python",
   "nbconvert_exporter": "python",
   "pygments_lexer": "ipython2",
   "version": "2.7.6"
  }
 },
 "nbformat": 4,
 "nbformat_minor": 0
}
