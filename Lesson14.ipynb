{
  "nbformat": 4,
  "nbformat_minor": 0,
  "metadata": {
    "colab": {
      "provenance": [],
      "authorship_tag": "ABX9TyNXY7IxhWduG0pEY3IQNcP/"
    },
    "kernelspec": {
      "name": "python3",
      "display_name": "Python 3"
    },
    "language_info": {
      "name": "python"
    }
  },
  "cells": [
    {
      "cell_type": "code",
      "execution_count": 1,
      "metadata": {
        "colab": {
          "base_uri": "https://localhost:8080/"
        },
        "id": "_20LRCn96Mo-",
        "outputId": "084ee713-53b9-495f-8114-a732ed911870"
      },
      "outputs": [
        {
          "output_type": "stream",
          "name": "stdout",
          "text": [
            "Collecting pyspark\n",
            "  Downloading pyspark-3.5.0.tar.gz (316.9 MB)\n",
            "\u001b[2K     \u001b[90m━━━━━━━━━━━━━━━━━━━━━━━━━━━━━━━━━━━━━━━━\u001b[0m \u001b[32m316.9/316.9 MB\u001b[0m \u001b[31m2.7 MB/s\u001b[0m eta \u001b[36m0:00:00\u001b[0m\n",
            "\u001b[?25h  Preparing metadata (setup.py) ... \u001b[?25l\u001b[?25hdone\n",
            "Requirement already satisfied: py4j==0.10.9.7 in /usr/local/lib/python3.10/dist-packages (from pyspark) (0.10.9.7)\n",
            "Building wheels for collected packages: pyspark\n",
            "  Building wheel for pyspark (setup.py) ... \u001b[?25l\u001b[?25hdone\n",
            "  Created wheel for pyspark: filename=pyspark-3.5.0-py2.py3-none-any.whl size=317425345 sha256=0ff1acb5ab6b678b58d1920305b027151089cd921d31932b0cd5c16e89362e65\n",
            "  Stored in directory: /root/.cache/pip/wheels/41/4e/10/c2cf2467f71c678cfc8a6b9ac9241e5e44a01940da8fbb17fc\n",
            "Successfully built pyspark\n",
            "Installing collected packages: pyspark\n",
            "Successfully installed pyspark-3.5.0\n",
            "The following additional packages will be installed:\n",
            "  libxtst6 openjdk-8-jre-headless\n",
            "Suggested packages:\n",
            "  openjdk-8-demo openjdk-8-source libnss-mdns fonts-dejavu-extra fonts-nanum fonts-ipafont-gothic\n",
            "  fonts-ipafont-mincho fonts-wqy-microhei fonts-wqy-zenhei fonts-indic\n",
            "The following NEW packages will be installed:\n",
            "  libxtst6 openjdk-8-jdk-headless openjdk-8-jre-headless\n",
            "0 upgraded, 3 newly installed, 0 to remove and 32 not upgraded.\n",
            "Need to get 39.7 MB of archives.\n",
            "After this operation, 144 MB of additional disk space will be used.\n",
            "Selecting previously unselected package libxtst6:amd64.\n",
            "(Reading database ... 121730 files and directories currently installed.)\n",
            "Preparing to unpack .../libxtst6_2%3a1.2.3-1build4_amd64.deb ...\n",
            "Unpacking libxtst6:amd64 (2:1.2.3-1build4) ...\n",
            "Selecting previously unselected package openjdk-8-jre-headless:amd64.\n",
            "Preparing to unpack .../openjdk-8-jre-headless_8u392-ga-1~22.04_amd64.deb ...\n",
            "Unpacking openjdk-8-jre-headless:amd64 (8u392-ga-1~22.04) ...\n",
            "Selecting previously unselected package openjdk-8-jdk-headless:amd64.\n",
            "Preparing to unpack .../openjdk-8-jdk-headless_8u392-ga-1~22.04_amd64.deb ...\n",
            "Unpacking openjdk-8-jdk-headless:amd64 (8u392-ga-1~22.04) ...\n",
            "Setting up libxtst6:amd64 (2:1.2.3-1build4) ...\n",
            "Setting up openjdk-8-jre-headless:amd64 (8u392-ga-1~22.04) ...\n",
            "update-alternatives: using /usr/lib/jvm/java-8-openjdk-amd64/jre/bin/orbd to provide /usr/bin/orbd (orbd) in auto mode\n",
            "update-alternatives: using /usr/lib/jvm/java-8-openjdk-amd64/jre/bin/servertool to provide /usr/bin/servertool (servertool) in auto mode\n",
            "update-alternatives: using /usr/lib/jvm/java-8-openjdk-amd64/jre/bin/tnameserv to provide /usr/bin/tnameserv (tnameserv) in auto mode\n",
            "Setting up openjdk-8-jdk-headless:amd64 (8u392-ga-1~22.04) ...\n",
            "update-alternatives: using /usr/lib/jvm/java-8-openjdk-amd64/bin/clhsdb to provide /usr/bin/clhsdb (clhsdb) in auto mode\n",
            "update-alternatives: using /usr/lib/jvm/java-8-openjdk-amd64/bin/extcheck to provide /usr/bin/extcheck (extcheck) in auto mode\n",
            "update-alternatives: using /usr/lib/jvm/java-8-openjdk-amd64/bin/hsdb to provide /usr/bin/hsdb (hsdb) in auto mode\n",
            "update-alternatives: using /usr/lib/jvm/java-8-openjdk-amd64/bin/idlj to provide /usr/bin/idlj (idlj) in auto mode\n",
            "update-alternatives: using /usr/lib/jvm/java-8-openjdk-amd64/bin/javah to provide /usr/bin/javah (javah) in auto mode\n",
            "update-alternatives: using /usr/lib/jvm/java-8-openjdk-amd64/bin/jhat to provide /usr/bin/jhat (jhat) in auto mode\n",
            "update-alternatives: using /usr/lib/jvm/java-8-openjdk-amd64/bin/jsadebugd to provide /usr/bin/jsadebugd (jsadebugd) in auto mode\n",
            "update-alternatives: using /usr/lib/jvm/java-8-openjdk-amd64/bin/native2ascii to provide /usr/bin/native2ascii (native2ascii) in auto mode\n",
            "update-alternatives: using /usr/lib/jvm/java-8-openjdk-amd64/bin/schemagen to provide /usr/bin/schemagen (schemagen) in auto mode\n",
            "update-alternatives: using /usr/lib/jvm/java-8-openjdk-amd64/bin/wsgen to provide /usr/bin/wsgen (wsgen) in auto mode\n",
            "update-alternatives: using /usr/lib/jvm/java-8-openjdk-amd64/bin/wsimport to provide /usr/bin/wsimport (wsimport) in auto mode\n",
            "update-alternatives: using /usr/lib/jvm/java-8-openjdk-amd64/bin/xjc to provide /usr/bin/xjc (xjc) in auto mode\n",
            "Processing triggers for libc-bin (2.35-0ubuntu3.4) ...\n",
            "/sbin/ldconfig.real: /usr/local/lib/libtbbbind.so.3 is not a symbolic link\n",
            "\n",
            "/sbin/ldconfig.real: /usr/local/lib/libtbb.so.12 is not a symbolic link\n",
            "\n",
            "/sbin/ldconfig.real: /usr/local/lib/libtbbbind_2_0.so.3 is not a symbolic link\n",
            "\n",
            "/sbin/ldconfig.real: /usr/local/lib/libtbbmalloc.so.2 is not a symbolic link\n",
            "\n",
            "/sbin/ldconfig.real: /usr/local/lib/libtbbbind_2_5.so.3 is not a symbolic link\n",
            "\n",
            "/sbin/ldconfig.real: /usr/local/lib/libtbbmalloc_proxy.so.2 is not a symbolic link\n",
            "\n"
          ]
        }
      ],
      "source": [
        "!pip install pyspark\n",
        "!pip install -U -q PyDrive\n",
        "!apt install openjdk-8-jdk-headless -qq\n",
        "import os\n",
        "os.environ[\"JAVA_HOME\"] = \"/usr/lib/jvm/java-8-openjdk-amd64\""
      ]
    },
    {
      "cell_type": "code",
      "source": [
        "import pyspark\n",
        "import pyspark.sql  as pyspark_sql\n",
        "import pyspark.sql.types as T\n",
        "import pyspark.sql.functions  as F\n",
        "from pyspark.sql import SparkSession"
      ],
      "metadata": {
        "id": "rcfX7_j26qP8"
      },
      "execution_count": 9,
      "outputs": []
    },
    {
      "cell_type": "code",
      "source": [
        "spark = SparkSession.builder.master('local[*]').getOrCreate()"
      ],
      "metadata": {
        "id": "gZScF3p_6yzW"
      },
      "execution_count": 6,
      "outputs": []
    },
    {
      "cell_type": "code",
      "source": [
        "print(spark.version)"
      ],
      "metadata": {
        "colab": {
          "base_uri": "https://localhost:8080/"
        },
        "id": "ug2bC8FL7cKC",
        "outputId": "b8168e8e-22a5-4fe1-ef18-9868dab44222"
      },
      "execution_count": 7,
      "outputs": [
        {
          "output_type": "stream",
          "name": "stdout",
          "text": [
            "3.5.0\n"
          ]
        }
      ]
    },
    {
      "cell_type": "code",
      "source": [
        "actor_df = spark.read.csv('actor.csv', header=True, inferSchema=True)\n",
        "address_df = spark.read.csv('address.csv', header=True, inferSchema=True)\n",
        "category_df = spark.read.csv('category.csv', header=True, inferSchema=True)\n",
        "city_df = spark.read.csv('city.csv', header=True, inferSchema=True)\n",
        "country_df = spark.read.csv('country.csv', header=True, inferSchema=True)\n",
        "customer_df = spark.read.csv('customer.csv', header=True, inferSchema=True)\n",
        "film_df = spark.read.csv('film.csv', header=True, inferSchema=True)\n",
        "film_actor_df = spark.read.csv('film_actor.csv', header=True, inferSchema=True)\n",
        "film_category_df = spark.read.csv('film_category.csv', header=True, inferSchema=True)\n",
        "inventory_df = spark.read.csv('inventory.csv', header=True, inferSchema=True)\n",
        "language_df = spark.read.csv('language.csv', header=True, inferSchema=True)\n",
        "payment_df = spark.read.csv('payment.csv', header=True, inferSchema=True)\n",
        "rental_df = spark.read.csv('rental.csv', header=True, inferSchema=True)\n",
        "staff_df = spark.read.csv('staff.csv', header=True, inferSchema=True)\n",
        "store_df = spark.read.csv('store.csv', header=True, inferSchema=True)"
      ],
      "metadata": {
        "id": "VWvZfEWV7iyS"
      },
      "execution_count": 8,
      "outputs": []
    },
    {
      "cell_type": "markdown",
      "source": [
        "Домашнє завдання на тему Spark SQL\n",
        "Задачі з домашнього завдання на SQL потрібно розвʼязати за допомогою Spark SQL DataFrame API.\n",
        "\n",
        "Дампи таблиць знаходяться в папці data. Датафрейми таблиць вже створені в клітинці вище.\n",
        "Можете створювати стільки нових клітинок, скільки вам необхідно.\n",
        "Розвʼязок кожної задачі має бути відображений в самому файлі (використати метод .show())\n",
        "код має бути оформлений у відповідності із одним із стилем, показаним лектором на занятті 13.\n",
        "Увага! Використовувати мову запитів SQL безпосередньо забороняється, потрібно використовувати виключно DataFrame API!\n"
      ],
      "metadata": {
        "id": "Ui46Zl2p_PLu"
      }
    },
    {
      "cell_type": "markdown",
      "source": [
        "Вивести кількість фільмів в кожній категорії. Результат відсортувати за спаданням."
      ],
      "metadata": {
        "id": "6TABW27ECeI1"
      }
    },
    {
      "cell_type": "code",
      "source": [
        "films_count_by_category = (film_df\n",
        "                           .join(film_category_df, on='film_id')\n",
        "                           .join(category_df, on='category_id')\n",
        "                           .groupBy(category_df.name)\n",
        "                           .count()\n",
        "                           .sort(F.col(\"count\").desc())\n",
        "                           .show())\n"
      ],
      "metadata": {
        "colab": {
          "base_uri": "https://localhost:8080/"
        },
        "id": "-iYuE--h_Knd",
        "outputId": "0398364d-8dee-4bee-fb07-78053e664e6b"
      },
      "execution_count": 26,
      "outputs": [
        {
          "output_type": "stream",
          "name": "stdout",
          "text": [
            "+-----------+-----+\n",
            "|       name|count|\n",
            "+-----------+-----+\n",
            "|     Sports|   74|\n",
            "|    Foreign|   73|\n",
            "|     Family|   69|\n",
            "|Documentary|   68|\n",
            "|  Animation|   66|\n",
            "|     Action|   64|\n",
            "|        New|   63|\n",
            "|      Drama|   62|\n",
            "|      Games|   61|\n",
            "|     Sci-Fi|   61|\n",
            "|   Children|   60|\n",
            "|     Comedy|   58|\n",
            "|     Travel|   57|\n",
            "|   Classics|   57|\n",
            "|     Horror|   56|\n",
            "|      Music|   51|\n",
            "+-----------+-----+\n",
            "\n"
          ]
        }
      ]
    },
    {
      "cell_type": "markdown",
      "source": [
        "Вивести 10 акторів, чиї фільми брали на прокат найбільше. Результат відсортувати за спаданням."
      ],
      "metadata": {
        "id": "Ya36Gk2mDhwo"
      }
    },
    {
      "cell_type": "code",
      "source": [
        "top_actors = (film_df\n",
        "              .join(film_actor_df, on='film_id')\n",
        "              .join(actor_df, on='actor_id')\n",
        "              .join(inventory_df, on='film_id')\n",
        "              .join(rental_df, on='inventory_id')\n",
        "              .groupBy(actor_df.actor_id, actor_df.first_name, actor_df.last_name)\n",
        "              .count()\n",
        "              .sort(F.col(\"count\").desc())\n",
        "              .show(10))\n"
      ],
      "metadata": {
        "colab": {
          "base_uri": "https://localhost:8080/"
        },
        "id": "n5tgFy0qDKkt",
        "outputId": "f5bdeaea-d25e-4b13-9386-97c53bd38752"
      },
      "execution_count": 27,
      "outputs": [
        {
          "output_type": "stream",
          "name": "stdout",
          "text": [
            "+--------+----------+-----------+-----+\n",
            "|actor_id|first_name|  last_name|count|\n",
            "+--------+----------+-----------+-----+\n",
            "|     107|      GINA|  DEGENERES|  753|\n",
            "|     181|   MATTHEW|     CARREY|  678|\n",
            "|     198|      MARY|     KEITEL|  674|\n",
            "|     144|    ANGELA|WITHERSPOON|  654|\n",
            "|     102|    WALTER|       TORN|  640|\n",
            "|      60|     HENRY|      BERRY|  612|\n",
            "|     150|     JAYNE|      NOLTE|  611|\n",
            "|      37|       VAL|     BOLGER|  605|\n",
            "|      23|    SANDRA|     KILMER|  604|\n",
            "|      90|      SEAN|    GUINESS|  599|\n",
            "+--------+----------+-----------+-----+\n",
            "only showing top 10 rows\n",
            "\n"
          ]
        }
      ]
    },
    {
      "cell_type": "markdown",
      "source": [
        "\n",
        "Вивести категорія фільмів, на яку було витрачено найбільше грошей в прокаті"
      ],
      "metadata": {
        "id": "fPC2_EjlFMFW"
      }
    },
    {
      "cell_type": "code",
      "source": [
        "most_expensive = (category_df\n",
        "             .join(film_category_df, on='category_id')\n",
        "             .join(film_df, on='film_id')\n",
        "             .join(inventory_df, on='film_id')\n",
        "             .join(rental_df, on='inventory_id')\n",
        "             .join(payment_df, on='rental_id')\n",
        "             .groupBy(F.col('name'))\n",
        "             .agg(F.round(F.sum('amount'), 2).alias(\"total_spent\"))\n",
        "             .orderBy(F.col(\"total_spent\").desc())\n",
        "             .show(1))\n"
      ],
      "metadata": {
        "colab": {
          "base_uri": "https://localhost:8080/"
        },
        "id": "9dx1L-eoEkUg",
        "outputId": "2e7dd192-b9f6-4216-c610-09eb7b274cb7"
      },
      "execution_count": 31,
      "outputs": [
        {
          "output_type": "stream",
          "name": "stdout",
          "text": [
            "+------+-----------+\n",
            "|  name|total_spent|\n",
            "+------+-----------+\n",
            "|Sports|    5314.21|\n",
            "+------+-----------+\n",
            "only showing top 1 row\n",
            "\n"
          ]
        }
      ]
    },
    {
      "cell_type": "markdown",
      "source": [
        "Вивести назви фільмів, яких не має в inventory."
      ],
      "metadata": {
        "id": "SdCrk20uIkcI"
      }
    },
    {
      "cell_type": "code",
      "source": [
        "films_not_in_inventory = (film_df\n",
        "                          .join(inventory_df, film_df.film_id == inventory_df.film_id, \"left_anti\")\n",
        "                          .select(film_df[\"title\"])\n",
        "                          .show())"
      ],
      "metadata": {
        "colab": {
          "base_uri": "https://localhost:8080/"
        },
        "id": "cHgo_hsxFlwc",
        "outputId": "55d125b0-f8e7-4d5d-be3b-1c1722a1d042"
      },
      "execution_count": 32,
      "outputs": [
        {
          "output_type": "stream",
          "name": "stdout",
          "text": [
            "+--------------------+\n",
            "|               title|\n",
            "+--------------------+\n",
            "|      ALICE FANTASIA|\n",
            "|         APOLLO TEEN|\n",
            "|      ARGONAUTS TOWN|\n",
            "|       ARK RIDGEMONT|\n",
            "|ARSENIC INDEPENDENCE|\n",
            "|   BOONDOCK BALLROOM|\n",
            "|       BUTCH PANTHER|\n",
            "|       CATCH AMISTAD|\n",
            "| CHINATOWN GLADIATOR|\n",
            "|      CHOCOLATE DUCK|\n",
            "|COMMANDMENTS EXPRESS|\n",
            "|    CROSSING DIVORCE|\n",
            "|     CROWDS TELEMARK|\n",
            "|    CRYSTAL BREAKING|\n",
            "|          DAZED PUNK|\n",
            "|DELIVERANCE MULHO...|\n",
            "|   FIREHOUSE VIETNAM|\n",
            "|       FLOATS GARDEN|\n",
            "|FRANKENSTEIN STRA...|\n",
            "|  GLADIATOR WESTWARD|\n",
            "+--------------------+\n",
            "only showing top 20 rows\n",
            "\n"
          ]
        }
      ]
    },
    {
      "cell_type": "markdown",
      "source": [
        "\n",
        "Вивести топ 3 актори, які найбільше зʼявлялись в категорії фільмів “Children”"
      ],
      "metadata": {
        "id": "52UYXZ8QJ0hn"
      }
    },
    {
      "cell_type": "code",
      "source": [
        "top_actors_in_children = (film_df\n",
        "                          .join(film_category_df, on='film_id')\n",
        "                          .join(category_df, on='category_id')\n",
        "                          .where(category_df.name == \"Children\")\n",
        "                          .join(film_actor_df, on='film_id')\n",
        "                          .join(actor_df, 'actor_id')\n",
        "                          .groupBy(actor_df.actor_id, actor_df.first_name, actor_df.last_name)\n",
        "                          .count()\n",
        "                          .orderBy(F.col(\"count\").desc())\n",
        "                          .show(3))"
      ],
      "metadata": {
        "colab": {
          "base_uri": "https://localhost:8080/"
        },
        "id": "3WOqp6uYJ4UY",
        "outputId": "503edb8f-df77-47e5-98b1-94276e09ebfd"
      },
      "execution_count": 33,
      "outputs": [
        {
          "output_type": "stream",
          "name": "stdout",
          "text": [
            "+--------+----------+---------+-----+\n",
            "|actor_id|first_name|last_name|count|\n",
            "+--------+----------+---------+-----+\n",
            "|      17|     HELEN|   VOIGHT|    7|\n",
            "|     127|     KEVIN|  GARLAND|    5|\n",
            "|      80|     RALPH|     CRUZ|    5|\n",
            "+--------+----------+---------+-----+\n",
            "only showing top 3 rows\n",
            "\n"
          ]
        }
      ]
    },
    {
      "cell_type": "code",
      "source": [
        "spark.stop()"
      ],
      "metadata": {
        "id": "FAXdmwg7KT-i"
      },
      "execution_count": 34,
      "outputs": []
    }
  ]
}